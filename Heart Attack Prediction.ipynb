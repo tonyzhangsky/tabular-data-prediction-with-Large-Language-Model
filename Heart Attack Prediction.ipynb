{
 "cells": [
  {
   "attachments": {},
   "cell_type": "markdown",
   "metadata": {},
   "source": [
    "# Import package"
   ]
  },
  {
   "cell_type": "code",
   "execution_count": 1,
   "metadata": {},
   "outputs": [],
   "source": [
    "import warnings\n",
    "warnings.filterwarnings(\"ignore\")\n",
    "\n",
    "#Math and Vectors\n",
    "import pandas as pd\n",
    "import numpy as np\n",
    "\n",
    "#Visualizations\n",
    "import plotly.express as px\n",
    "\n",
    "#ML\n",
    "from sklearn.model_selection import train_test_split\n",
    "from sklearn.metrics import roc_auc_score\n",
    "import concurrent.futures\n",
    "\n",
    "# Utils functions\n",
    "from utils import prediction, compile_prompt, get_embedding, ml_models, create_auc_chart, gpt_reasoning\n",
    "pd.set_option('display.max_columns', None)\n"
   ]
  },
  {
   "attachments": {},
   "cell_type": "markdown",
   "metadata": {},
   "source": [
    "# Load data"
   ]
  },
  {
   "cell_type": "code",
   "execution_count": 2,
   "metadata": {},
   "outputs": [
    {
     "data": {
      "text/plain": [
       "(303, 14)"
      ]
     },
     "execution_count": 2,
     "metadata": {},
     "output_type": "execute_result"
    }
   ],
   "source": [
    "df = pd.read_csv(\"./data/raw data/heart_attack_predicton_kaggle.csv\")\n",
    "df.shape"
   ]
  },
  {
   "cell_type": "code",
   "execution_count": 3,
   "metadata": {},
   "outputs": [
    {
     "data": {
      "text/html": [
       "<div>\n",
       "<style scoped>\n",
       "    .dataframe tbody tr th:only-of-type {\n",
       "        vertical-align: middle;\n",
       "    }\n",
       "\n",
       "    .dataframe tbody tr th {\n",
       "        vertical-align: top;\n",
       "    }\n",
       "\n",
       "    .dataframe thead th {\n",
       "        text-align: right;\n",
       "    }\n",
       "</style>\n",
       "<table border=\"1\" class=\"dataframe\">\n",
       "  <thead>\n",
       "    <tr style=\"text-align: right;\">\n",
       "      <th></th>\n",
       "      <th>age</th>\n",
       "      <th>sex</th>\n",
       "      <th>cp</th>\n",
       "      <th>trtbps</th>\n",
       "      <th>chol</th>\n",
       "      <th>fbs</th>\n",
       "      <th>restecg</th>\n",
       "      <th>thalachh</th>\n",
       "      <th>exng</th>\n",
       "      <th>oldpeak</th>\n",
       "      <th>slp</th>\n",
       "      <th>caa</th>\n",
       "      <th>thall</th>\n",
       "      <th>output</th>\n",
       "    </tr>\n",
       "  </thead>\n",
       "  <tbody>\n",
       "    <tr>\n",
       "      <th>0</th>\n",
       "      <td>63</td>\n",
       "      <td>1</td>\n",
       "      <td>3</td>\n",
       "      <td>145</td>\n",
       "      <td>233</td>\n",
       "      <td>1</td>\n",
       "      <td>0</td>\n",
       "      <td>150</td>\n",
       "      <td>0</td>\n",
       "      <td>2.3</td>\n",
       "      <td>0</td>\n",
       "      <td>0</td>\n",
       "      <td>1</td>\n",
       "      <td>1</td>\n",
       "    </tr>\n",
       "    <tr>\n",
       "      <th>1</th>\n",
       "      <td>37</td>\n",
       "      <td>1</td>\n",
       "      <td>2</td>\n",
       "      <td>130</td>\n",
       "      <td>250</td>\n",
       "      <td>0</td>\n",
       "      <td>1</td>\n",
       "      <td>187</td>\n",
       "      <td>0</td>\n",
       "      <td>3.5</td>\n",
       "      <td>0</td>\n",
       "      <td>0</td>\n",
       "      <td>2</td>\n",
       "      <td>1</td>\n",
       "    </tr>\n",
       "  </tbody>\n",
       "</table>\n",
       "</div>"
      ],
      "text/plain": [
       "   age  sex  cp  trtbps  chol  fbs  restecg  thalachh  exng  oldpeak  slp  \\\n",
       "0   63    1   3     145   233    1        0       150     0      2.3    0   \n",
       "1   37    1   2     130   250    0        1       187     0      3.5    0   \n",
       "\n",
       "   caa  thall  output  \n",
       "0    0      1       1  \n",
       "1    0      2       1  "
      ]
     },
     "execution_count": 3,
     "metadata": {},
     "output_type": "execute_result"
    }
   ],
   "source": [
    "df.head(2)"
   ]
  },
  {
   "attachments": {},
   "cell_type": "markdown",
   "metadata": {},
   "source": [
    "# Preprocessing"
   ]
  },
  {
   "cell_type": "markdown",
   "metadata": {},
   "source": [
    "## check missing value"
   ]
  },
  {
   "cell_type": "code",
   "execution_count": 4,
   "metadata": {},
   "outputs": [
    {
     "data": {
      "text/plain": [
       "age         0\n",
       "sex         0\n",
       "cp          0\n",
       "trtbps      0\n",
       "chol        0\n",
       "fbs         0\n",
       "restecg     0\n",
       "thalachh    0\n",
       "exng        0\n",
       "oldpeak     0\n",
       "slp         0\n",
       "caa         0\n",
       "thall       0\n",
       "output      0\n",
       "dtype: int64"
      ]
     },
     "execution_count": 4,
     "metadata": {},
     "output_type": "execute_result"
    }
   ],
   "source": [
    "df.isna().sum()"
   ]
  },
  {
   "cell_type": "markdown",
   "metadata": {},
   "source": [
    "## Outcome distribution"
   ]
  },
  {
   "cell_type": "code",
   "execution_count": 5,
   "metadata": {},
   "outputs": [
    {
     "data": {
      "text/plain": [
       "1    165\n",
       "0    138\n",
       "Name: output, dtype: int64"
      ]
     },
     "execution_count": 5,
     "metadata": {},
     "output_type": "execute_result"
    }
   ],
   "source": [
    "df['output'].value_counts()"
   ]
  },
  {
   "attachments": {},
   "cell_type": "markdown",
   "metadata": {},
   "source": [
    "# Machine learing model"
   ]
  },
  {
   "cell_type": "markdown",
   "metadata": {},
   "source": [
    "## One hot encoding"
   ]
  },
  {
   "cell_type": "code",
   "execution_count": 6,
   "metadata": {},
   "outputs": [
    {
     "data": {
      "text/plain": [
       "(303, 27)"
      ]
     },
     "execution_count": 6,
     "metadata": {},
     "output_type": "execute_result"
    }
   ],
   "source": [
    "cat_cols = ['sex','exng','cp','fbs','restecg','slp','thall']\n",
    "df_model = pd.get_dummies(df,columns=cat_cols)\n",
    "df_model.shape"
   ]
  },
  {
   "cell_type": "markdown",
   "metadata": {},
   "source": [
    "## Train test split"
   ]
  },
  {
   "cell_type": "code",
   "execution_count": 7,
   "metadata": {},
   "outputs": [],
   "source": [
    "# Seperate dependent and independent variables\n",
    "X = df_model.drop(axis=1,columns=['output'])\n",
    "y = df_model['output'].tolist()"
   ]
  },
  {
   "cell_type": "code",
   "execution_count": 8,
   "metadata": {},
   "outputs": [],
   "source": [
    "X_tr, X_val, y_tr, y_val = train_test_split(X, y, test_size=0.2, random_state=101,\n",
    "                                                stratify=y,shuffle=True)"
   ]
  },
  {
   "cell_type": "markdown",
   "metadata": {},
   "source": [
    "## Model training"
   ]
  },
  {
   "cell_type": "code",
   "execution_count": 9,
   "metadata": {},
   "outputs": [],
   "source": [
    "models = ml_models()\n",
    "lr = models['LR']\n",
    "lasso = models['LASSO'] \n",
    "ridge = models['RIDGE'] \n",
    "rf = models['RF'] "
   ]
  },
  {
   "cell_type": "code",
   "execution_count": 10,
   "metadata": {},
   "outputs": [
    {
     "name": "stdout",
     "output_type": "stream",
     "text": [
      "LR\n",
      "LR:  0.7088744588744589\n",
      "LASSO\n",
      "LASSO:  0.7088744588744589\n",
      "RIDGE\n",
      "RIDGE:  0.7088744588744589\n",
      "RF\n"
     ]
    },
    {
     "name": "stdout",
     "output_type": "stream",
     "text": [
      "RF:  0.8744588744588745\n"
     ]
    }
   ],
   "source": [
    "pred_dict = {}\n",
    "for k, m in models.items():\n",
    "    print(k)\n",
    "    m.fit(X_tr, y_tr)\n",
    "    preds = m.predict_proba(X_val)[:,1]\n",
    "    auc = roc_auc_score(y_val, preds)\n",
    "    pred_dict[k] = preds\n",
    "    print(k + ': ', auc)"
   ]
  },
  {
   "cell_type": "markdown",
   "metadata": {},
   "source": [
    "## Model performance"
   ]
  },
  {
   "cell_type": "code",
   "execution_count": 11,
   "metadata": {},
   "outputs": [
    {
     "data": {
      "application/vnd.plotly.v1+json": {
       "config": {
        "plotlyServerURL": "https://plot.ly"
       },
       "data": [
        {
         "hovertemplate": "FPR: %{x:.2%} TPR: %{y:.2%}",
         "name": "LR, AUC = 0.7089",
         "showlegend": true,
         "type": "scatter",
         "x": [
          0,
          0,
          0,
          0.07142857142857142,
          0.07142857142857142,
          0.10714285714285714,
          0.10714285714285714,
          0.21428571428571427,
          0.21428571428571427,
          0.2857142857142857,
          0.2857142857142857,
          0.35714285714285715,
          0.35714285714285715,
          0.39285714285714285,
          0.39285714285714285,
          0.42857142857142855,
          0.42857142857142855,
          0.6071428571428571,
          0.6071428571428571,
          0.6785714285714286,
          0.6785714285714286,
          0.8928571428571429,
          0.8928571428571429,
          0.9285714285714286,
          0.9285714285714286,
          1
         ],
         "y": [
          0,
          0.030303030303030304,
          0.24242424242424243,
          0.24242424242424243,
          0.36363636363636365,
          0.36363636363636365,
          0.45454545454545453,
          0.45454545454545453,
          0.5151515151515151,
          0.5151515151515151,
          0.5757575757575758,
          0.5757575757575758,
          0.6363636363636364,
          0.6363636363636364,
          0.7575757575757576,
          0.7575757575757576,
          0.7878787878787878,
          0.7878787878787878,
          0.8484848484848485,
          0.8484848484848485,
          0.9090909090909091,
          0.9090909090909091,
          0.9696969696969697,
          0.9696969696969697,
          1,
          1
         ]
        },
        {
         "hovertemplate": "FPR: %{x:.2%} TPR: %{y:.2%}",
         "name": "LASSO, AUC = 0.7089",
         "showlegend": true,
         "type": "scatter",
         "x": [
          0,
          0,
          0,
          0.07142857142857142,
          0.07142857142857142,
          0.10714285714285714,
          0.10714285714285714,
          0.21428571428571427,
          0.21428571428571427,
          0.2857142857142857,
          0.2857142857142857,
          0.35714285714285715,
          0.35714285714285715,
          0.39285714285714285,
          0.39285714285714285,
          0.42857142857142855,
          0.42857142857142855,
          0.6071428571428571,
          0.6071428571428571,
          0.6785714285714286,
          0.6785714285714286,
          0.8928571428571429,
          0.8928571428571429,
          0.9285714285714286,
          0.9285714285714286,
          1
         ],
         "y": [
          0,
          0.030303030303030304,
          0.24242424242424243,
          0.24242424242424243,
          0.36363636363636365,
          0.36363636363636365,
          0.45454545454545453,
          0.45454545454545453,
          0.5151515151515151,
          0.5151515151515151,
          0.5757575757575758,
          0.5757575757575758,
          0.6363636363636364,
          0.6363636363636364,
          0.7575757575757576,
          0.7575757575757576,
          0.7878787878787878,
          0.7878787878787878,
          0.8484848484848485,
          0.8484848484848485,
          0.9090909090909091,
          0.9090909090909091,
          0.9696969696969697,
          0.9696969696969697,
          1,
          1
         ]
        },
        {
         "hovertemplate": "FPR: %{x:.2%} TPR: %{y:.2%}",
         "name": "RIDGE, AUC = 0.7089",
         "showlegend": true,
         "type": "scatter",
         "x": [
          0,
          0,
          0,
          0.07142857142857142,
          0.07142857142857142,
          0.10714285714285714,
          0.10714285714285714,
          0.21428571428571427,
          0.21428571428571427,
          0.2857142857142857,
          0.2857142857142857,
          0.35714285714285715,
          0.35714285714285715,
          0.39285714285714285,
          0.39285714285714285,
          0.42857142857142855,
          0.42857142857142855,
          0.6071428571428571,
          0.6071428571428571,
          0.6785714285714286,
          0.6785714285714286,
          0.8928571428571429,
          0.8928571428571429,
          0.9285714285714286,
          0.9285714285714286,
          1
         ],
         "y": [
          0,
          0.030303030303030304,
          0.24242424242424243,
          0.24242424242424243,
          0.36363636363636365,
          0.36363636363636365,
          0.45454545454545453,
          0.45454545454545453,
          0.5151515151515151,
          0.5151515151515151,
          0.5757575757575758,
          0.5757575757575758,
          0.6363636363636364,
          0.6363636363636364,
          0.7575757575757576,
          0.7575757575757576,
          0.7878787878787878,
          0.7878787878787878,
          0.8484848484848485,
          0.8484848484848485,
          0.9090909090909091,
          0.9090909090909091,
          0.9696969696969697,
          0.9696969696969697,
          1,
          1
         ]
        },
        {
         "hovertemplate": "FPR: %{x:.2%} TPR: %{y:.2%}",
         "name": "RF, AUC = 0.8745",
         "showlegend": true,
         "type": "scatter",
         "x": [
          0,
          0,
          0,
          0.03571428571428571,
          0.03571428571428571,
          0.07142857142857142,
          0.07142857142857142,
          0.14285714285714285,
          0.14285714285714285,
          0.17857142857142858,
          0.17857142857142858,
          0.6071428571428571,
          0.6071428571428571,
          0.6428571428571429,
          0.6428571428571429,
          0.9642857142857143,
          0.9642857142857143,
          1
         ],
         "y": [
          0,
          0.030303030303030304,
          0.12121212121212122,
          0.12121212121212122,
          0.45454545454545453,
          0.45454545454545453,
          0.7575757575757576,
          0.7575757575757576,
          0.8181818181818182,
          0.8181818181818182,
          0.9090909090909091,
          0.9090909090909091,
          0.9393939393939394,
          0.9393939393939394,
          0.9696969696969697,
          0.9696969696969697,
          1,
          1
         ]
        }
       ],
       "layout": {
        "font": {
         "family": "Courier New"
        },
        "height": 600,
        "template": {
         "data": {
          "bar": [
           {
            "error_x": {
             "color": "#2a3f5f"
            },
            "error_y": {
             "color": "#2a3f5f"
            },
            "marker": {
             "line": {
              "color": "white",
              "width": 0.5
             },
             "pattern": {
              "fillmode": "overlay",
              "size": 10,
              "solidity": 0.2
             }
            },
            "type": "bar"
           }
          ],
          "barpolar": [
           {
            "marker": {
             "line": {
              "color": "white",
              "width": 0.5
             },
             "pattern": {
              "fillmode": "overlay",
              "size": 10,
              "solidity": 0.2
             }
            },
            "type": "barpolar"
           }
          ],
          "carpet": [
           {
            "aaxis": {
             "endlinecolor": "#2a3f5f",
             "gridcolor": "#C8D4E3",
             "linecolor": "#C8D4E3",
             "minorgridcolor": "#C8D4E3",
             "startlinecolor": "#2a3f5f"
            },
            "baxis": {
             "endlinecolor": "#2a3f5f",
             "gridcolor": "#C8D4E3",
             "linecolor": "#C8D4E3",
             "minorgridcolor": "#C8D4E3",
             "startlinecolor": "#2a3f5f"
            },
            "type": "carpet"
           }
          ],
          "choropleth": [
           {
            "colorbar": {
             "outlinewidth": 0,
             "ticks": ""
            },
            "type": "choropleth"
           }
          ],
          "contour": [
           {
            "colorbar": {
             "outlinewidth": 0,
             "ticks": ""
            },
            "colorscale": [
             [
              0,
              "#0d0887"
             ],
             [
              0.1111111111111111,
              "#46039f"
             ],
             [
              0.2222222222222222,
              "#7201a8"
             ],
             [
              0.3333333333333333,
              "#9c179e"
             ],
             [
              0.4444444444444444,
              "#bd3786"
             ],
             [
              0.5555555555555556,
              "#d8576b"
             ],
             [
              0.6666666666666666,
              "#ed7953"
             ],
             [
              0.7777777777777778,
              "#fb9f3a"
             ],
             [
              0.8888888888888888,
              "#fdca26"
             ],
             [
              1,
              "#f0f921"
             ]
            ],
            "type": "contour"
           }
          ],
          "contourcarpet": [
           {
            "colorbar": {
             "outlinewidth": 0,
             "ticks": ""
            },
            "type": "contourcarpet"
           }
          ],
          "heatmap": [
           {
            "colorbar": {
             "outlinewidth": 0,
             "ticks": ""
            },
            "colorscale": [
             [
              0,
              "#0d0887"
             ],
             [
              0.1111111111111111,
              "#46039f"
             ],
             [
              0.2222222222222222,
              "#7201a8"
             ],
             [
              0.3333333333333333,
              "#9c179e"
             ],
             [
              0.4444444444444444,
              "#bd3786"
             ],
             [
              0.5555555555555556,
              "#d8576b"
             ],
             [
              0.6666666666666666,
              "#ed7953"
             ],
             [
              0.7777777777777778,
              "#fb9f3a"
             ],
             [
              0.8888888888888888,
              "#fdca26"
             ],
             [
              1,
              "#f0f921"
             ]
            ],
            "type": "heatmap"
           }
          ],
          "heatmapgl": [
           {
            "colorbar": {
             "outlinewidth": 0,
             "ticks": ""
            },
            "colorscale": [
             [
              0,
              "#0d0887"
             ],
             [
              0.1111111111111111,
              "#46039f"
             ],
             [
              0.2222222222222222,
              "#7201a8"
             ],
             [
              0.3333333333333333,
              "#9c179e"
             ],
             [
              0.4444444444444444,
              "#bd3786"
             ],
             [
              0.5555555555555556,
              "#d8576b"
             ],
             [
              0.6666666666666666,
              "#ed7953"
             ],
             [
              0.7777777777777778,
              "#fb9f3a"
             ],
             [
              0.8888888888888888,
              "#fdca26"
             ],
             [
              1,
              "#f0f921"
             ]
            ],
            "type": "heatmapgl"
           }
          ],
          "histogram": [
           {
            "marker": {
             "pattern": {
              "fillmode": "overlay",
              "size": 10,
              "solidity": 0.2
             }
            },
            "type": "histogram"
           }
          ],
          "histogram2d": [
           {
            "colorbar": {
             "outlinewidth": 0,
             "ticks": ""
            },
            "colorscale": [
             [
              0,
              "#0d0887"
             ],
             [
              0.1111111111111111,
              "#46039f"
             ],
             [
              0.2222222222222222,
              "#7201a8"
             ],
             [
              0.3333333333333333,
              "#9c179e"
             ],
             [
              0.4444444444444444,
              "#bd3786"
             ],
             [
              0.5555555555555556,
              "#d8576b"
             ],
             [
              0.6666666666666666,
              "#ed7953"
             ],
             [
              0.7777777777777778,
              "#fb9f3a"
             ],
             [
              0.8888888888888888,
              "#fdca26"
             ],
             [
              1,
              "#f0f921"
             ]
            ],
            "type": "histogram2d"
           }
          ],
          "histogram2dcontour": [
           {
            "colorbar": {
             "outlinewidth": 0,
             "ticks": ""
            },
            "colorscale": [
             [
              0,
              "#0d0887"
             ],
             [
              0.1111111111111111,
              "#46039f"
             ],
             [
              0.2222222222222222,
              "#7201a8"
             ],
             [
              0.3333333333333333,
              "#9c179e"
             ],
             [
              0.4444444444444444,
              "#bd3786"
             ],
             [
              0.5555555555555556,
              "#d8576b"
             ],
             [
              0.6666666666666666,
              "#ed7953"
             ],
             [
              0.7777777777777778,
              "#fb9f3a"
             ],
             [
              0.8888888888888888,
              "#fdca26"
             ],
             [
              1,
              "#f0f921"
             ]
            ],
            "type": "histogram2dcontour"
           }
          ],
          "mesh3d": [
           {
            "colorbar": {
             "outlinewidth": 0,
             "ticks": ""
            },
            "type": "mesh3d"
           }
          ],
          "parcoords": [
           {
            "line": {
             "colorbar": {
              "outlinewidth": 0,
              "ticks": ""
             }
            },
            "type": "parcoords"
           }
          ],
          "pie": [
           {
            "automargin": true,
            "type": "pie"
           }
          ],
          "scatter": [
           {
            "fillpattern": {
             "fillmode": "overlay",
             "size": 10,
             "solidity": 0.2
            },
            "type": "scatter"
           }
          ],
          "scatter3d": [
           {
            "line": {
             "colorbar": {
              "outlinewidth": 0,
              "ticks": ""
             }
            },
            "marker": {
             "colorbar": {
              "outlinewidth": 0,
              "ticks": ""
             }
            },
            "type": "scatter3d"
           }
          ],
          "scattercarpet": [
           {
            "marker": {
             "colorbar": {
              "outlinewidth": 0,
              "ticks": ""
             }
            },
            "type": "scattercarpet"
           }
          ],
          "scattergeo": [
           {
            "marker": {
             "colorbar": {
              "outlinewidth": 0,
              "ticks": ""
             }
            },
            "type": "scattergeo"
           }
          ],
          "scattergl": [
           {
            "marker": {
             "colorbar": {
              "outlinewidth": 0,
              "ticks": ""
             }
            },
            "type": "scattergl"
           }
          ],
          "scattermapbox": [
           {
            "marker": {
             "colorbar": {
              "outlinewidth": 0,
              "ticks": ""
             }
            },
            "type": "scattermapbox"
           }
          ],
          "scatterpolar": [
           {
            "marker": {
             "colorbar": {
              "outlinewidth": 0,
              "ticks": ""
             }
            },
            "type": "scatterpolar"
           }
          ],
          "scatterpolargl": [
           {
            "marker": {
             "colorbar": {
              "outlinewidth": 0,
              "ticks": ""
             }
            },
            "type": "scatterpolargl"
           }
          ],
          "scatterternary": [
           {
            "marker": {
             "colorbar": {
              "outlinewidth": 0,
              "ticks": ""
             }
            },
            "type": "scatterternary"
           }
          ],
          "surface": [
           {
            "colorbar": {
             "outlinewidth": 0,
             "ticks": ""
            },
            "colorscale": [
             [
              0,
              "#0d0887"
             ],
             [
              0.1111111111111111,
              "#46039f"
             ],
             [
              0.2222222222222222,
              "#7201a8"
             ],
             [
              0.3333333333333333,
              "#9c179e"
             ],
             [
              0.4444444444444444,
              "#bd3786"
             ],
             [
              0.5555555555555556,
              "#d8576b"
             ],
             [
              0.6666666666666666,
              "#ed7953"
             ],
             [
              0.7777777777777778,
              "#fb9f3a"
             ],
             [
              0.8888888888888888,
              "#fdca26"
             ],
             [
              1,
              "#f0f921"
             ]
            ],
            "type": "surface"
           }
          ],
          "table": [
           {
            "cells": {
             "fill": {
              "color": "#EBF0F8"
             },
             "line": {
              "color": "white"
             }
            },
            "header": {
             "fill": {
              "color": "#C8D4E3"
             },
             "line": {
              "color": "white"
             }
            },
            "type": "table"
           }
          ]
         },
         "layout": {
          "annotationdefaults": {
           "arrowcolor": "#2a3f5f",
           "arrowhead": 0,
           "arrowwidth": 1
          },
          "autotypenumbers": "strict",
          "coloraxis": {
           "colorbar": {
            "outlinewidth": 0,
            "ticks": ""
           }
          },
          "colorscale": {
           "diverging": [
            [
             0,
             "#8e0152"
            ],
            [
             0.1,
             "#c51b7d"
            ],
            [
             0.2,
             "#de77ae"
            ],
            [
             0.3,
             "#f1b6da"
            ],
            [
             0.4,
             "#fde0ef"
            ],
            [
             0.5,
             "#f7f7f7"
            ],
            [
             0.6,
             "#e6f5d0"
            ],
            [
             0.7,
             "#b8e186"
            ],
            [
             0.8,
             "#7fbc41"
            ],
            [
             0.9,
             "#4d9221"
            ],
            [
             1,
             "#276419"
            ]
           ],
           "sequential": [
            [
             0,
             "#0d0887"
            ],
            [
             0.1111111111111111,
             "#46039f"
            ],
            [
             0.2222222222222222,
             "#7201a8"
            ],
            [
             0.3333333333333333,
             "#9c179e"
            ],
            [
             0.4444444444444444,
             "#bd3786"
            ],
            [
             0.5555555555555556,
             "#d8576b"
            ],
            [
             0.6666666666666666,
             "#ed7953"
            ],
            [
             0.7777777777777778,
             "#fb9f3a"
            ],
            [
             0.8888888888888888,
             "#fdca26"
            ],
            [
             1,
             "#f0f921"
            ]
           ],
           "sequentialminus": [
            [
             0,
             "#0d0887"
            ],
            [
             0.1111111111111111,
             "#46039f"
            ],
            [
             0.2222222222222222,
             "#7201a8"
            ],
            [
             0.3333333333333333,
             "#9c179e"
            ],
            [
             0.4444444444444444,
             "#bd3786"
            ],
            [
             0.5555555555555556,
             "#d8576b"
            ],
            [
             0.6666666666666666,
             "#ed7953"
            ],
            [
             0.7777777777777778,
             "#fb9f3a"
            ],
            [
             0.8888888888888888,
             "#fdca26"
            ],
            [
             1,
             "#f0f921"
            ]
           ]
          },
          "colorway": [
           "#636efa",
           "#EF553B",
           "#00cc96",
           "#ab63fa",
           "#FFA15A",
           "#19d3f3",
           "#FF6692",
           "#B6E880",
           "#FF97FF",
           "#FECB52"
          ],
          "font": {
           "color": "#2a3f5f"
          },
          "geo": {
           "bgcolor": "white",
           "lakecolor": "white",
           "landcolor": "white",
           "showlakes": true,
           "showland": true,
           "subunitcolor": "#C8D4E3"
          },
          "hoverlabel": {
           "align": "left"
          },
          "hovermode": "closest",
          "mapbox": {
           "style": "light"
          },
          "paper_bgcolor": "white",
          "plot_bgcolor": "white",
          "polar": {
           "angularaxis": {
            "gridcolor": "#EBF0F8",
            "linecolor": "#EBF0F8",
            "ticks": ""
           },
           "bgcolor": "white",
           "radialaxis": {
            "gridcolor": "#EBF0F8",
            "linecolor": "#EBF0F8",
            "ticks": ""
           }
          },
          "scene": {
           "xaxis": {
            "backgroundcolor": "white",
            "gridcolor": "#DFE8F3",
            "gridwidth": 2,
            "linecolor": "#EBF0F8",
            "showbackground": true,
            "ticks": "",
            "zerolinecolor": "#EBF0F8"
           },
           "yaxis": {
            "backgroundcolor": "white",
            "gridcolor": "#DFE8F3",
            "gridwidth": 2,
            "linecolor": "#EBF0F8",
            "showbackground": true,
            "ticks": "",
            "zerolinecolor": "#EBF0F8"
           },
           "zaxis": {
            "backgroundcolor": "white",
            "gridcolor": "#DFE8F3",
            "gridwidth": 2,
            "linecolor": "#EBF0F8",
            "showbackground": true,
            "ticks": "",
            "zerolinecolor": "#EBF0F8"
           }
          },
          "shapedefaults": {
           "line": {
            "color": "#2a3f5f"
           }
          },
          "ternary": {
           "aaxis": {
            "gridcolor": "#DFE8F3",
            "linecolor": "#A2B1C6",
            "ticks": ""
           },
           "baxis": {
            "gridcolor": "#DFE8F3",
            "linecolor": "#A2B1C6",
            "ticks": ""
           },
           "bgcolor": "white",
           "caxis": {
            "gridcolor": "#DFE8F3",
            "linecolor": "#A2B1C6",
            "ticks": ""
           }
          },
          "title": {
           "x": 0.05
          },
          "xaxis": {
           "automargin": true,
           "gridcolor": "#EBF0F8",
           "linecolor": "#EBF0F8",
           "ticks": "",
           "title": {
            "standoff": 15
           },
           "zerolinecolor": "#EBF0F8",
           "zerolinewidth": 2
          },
          "yaxis": {
           "automargin": true,
           "gridcolor": "#EBF0F8",
           "linecolor": "#EBF0F8",
           "ticks": "",
           "title": {
            "standoff": 15
           },
           "zerolinecolor": "#EBF0F8",
           "zerolinewidth": 2
          }
         }
        },
        "title": {
         "font": {
          "family": "Times New Roman"
         },
         "text": "MODEL AUC"
        },
        "width": 960
       }
      }
     },
     "metadata": {},
     "output_type": "display_data"
    }
   ],
   "source": [
    "create_auc_chart(pred_dict, y_val, 'Model AUC')"
   ]
  },
  {
   "attachments": {},
   "cell_type": "markdown",
   "metadata": {},
   "source": [
    "# ChatGPT prediction"
   ]
  },
  {
   "attachments": {},
   "cell_type": "markdown",
   "metadata": {},
   "source": [
    "## Prepare data"
   ]
  },
  {
   "cell_type": "code",
   "execution_count": 12,
   "metadata": {},
   "outputs": [
    {
     "data": {
      "text/plain": [
       "(303, 14)"
      ]
     },
     "execution_count": 12,
     "metadata": {},
     "output_type": "execute_result"
    }
   ],
   "source": [
    "df_gpt = df.copy()\n",
    "df_gpt.shape"
   ]
  },
  {
   "cell_type": "code",
   "execution_count": 13,
   "metadata": {},
   "outputs": [
    {
     "data": {
      "text/plain": [
       "(303, 14)"
      ]
     },
     "execution_count": 13,
     "metadata": {},
     "output_type": "execute_result"
    }
   ],
   "source": [
    "df_gpt['sex'] = np.where(df_gpt['sex'] == 1, 'Male', 'Female')\n",
    "df_gpt['cp'] = np.where(df_gpt['cp'] == 1, 'Typical angina', \n",
    "                       np.where(df_gpt['cp'] == 2, 'Atypical angina', \n",
    "                       np.where(df_gpt['cp'] == 3, 'Non-anginal pain', 'Asymptomatic')))\n",
    "df_gpt['fbs'] = np.where(df_gpt['fbs'] == 1, 'Fasting blood sugar > 120 mg/dl', 'Fasting blood sugar <= 120 mg/dl')\n",
    "df_gpt['restecg'] = np.where(df_gpt['restecg'] == 0, 'Normal', \n",
    "                       np.where(df_gpt['restecg'] == 1, 'Having ST-T wave abnormality (T wave inversions and/or ST elevation or depression of > 0.05 mV)', \n",
    "                                    \"Showing probable or definite left ventricular hypertrophy by Estes' criteria\"))\n",
    "df_gpt['exng'] = np.where(df_gpt['exng'] == 1, 'Exercise induced angina', 'Without exercise induced angina')\n",
    "df_gpt['slp'] = np.where(df_gpt['slp'] == 0, 'The slope of the peak exercise ST segment is downsloping', \n",
    "                       np.where(df_gpt['slp'] == 1, 'The slope of the peak exercise ST segment is flat', \n",
    "                                    'The slope of the peak exercise ST segment is upsloping'))\n",
    "df_gpt['thall'] = np.where(df_gpt['thall'] == 1, 'Thall is Fixed defect', \n",
    "                       np.where(df_gpt['thall'] == 2, 'Thall is normal', 'Thall is reversable defect'))\n",
    "df_gpt.shape"
   ]
  },
  {
   "cell_type": "code",
   "execution_count": 14,
   "metadata": {},
   "outputs": [],
   "source": [
    "# Seperate dependent and independent variables\n",
    "X = df_gpt.drop(axis=1,columns=['output'])\n",
    "y = df_gpt['output']\n",
    "\n",
    "X_tr, X_val, y_tr, y_val = train_test_split(X, y, test_size=0.2, random_state=101,\n",
    "                                                stratify=y,shuffle=True)"
   ]
  },
  {
   "cell_type": "code",
   "execution_count": 15,
   "metadata": {},
   "outputs": [
    {
     "data": {
      "text/plain": [
       "61"
      ]
     },
     "execution_count": 15,
     "metadata": {},
     "output_type": "execute_result"
    }
   ],
   "source": [
    "# test df to dict\n",
    "application_list = X_val.to_dict(orient='records')\n",
    "len(application_list)"
   ]
  },
  {
   "attachments": {},
   "cell_type": "markdown",
   "metadata": {},
   "source": [
    "## API call to GPT-3.5 model - text-davinci-003"
   ]
  },
  {
   "cell_type": "code",
   "execution_count": 17,
   "metadata": {},
   "outputs": [],
   "source": [
    "### get prediction from GPT-3.5 model: text-davinci-003 - multiprocessing pool\n",
    "with concurrent.futures.ThreadPoolExecutor() as executor:\n",
    "    # Combine credit_data and explain into a single iterable\n",
    "    combined_data = zip(application_list, [False] * len(application_list))\n",
    "    # Submit the transaction processing tasks to the executor\n",
    "    results = executor.map(prediction, combined_data)\n",
    "\n",
    "    # Collect the responses into a list\n",
    "    responses = list(results)\n",
    "responses_df = pd.DataFrame(responses)\n",
    "# responses_df.to_csv('./Heart_Attach_ChatGPT_Ony_Prediction.csv', index = False)\n",
    "responses_df.shape"
   ]
  },
  {
   "cell_type": "code",
   "execution_count": null,
   "metadata": {},
   "outputs": [
    {
     "data": {
      "text/plain": [
       "(61, 2)"
      ]
     },
     "execution_count": 30,
     "metadata": {},
     "output_type": "execute_result"
    }
   ],
   "source": [
    "# Load API call response\n",
    "responses_df = pd.read_csv('./data/processed data/Heart_Attach_ChatGPT_Ony_Prediction.csv')\n",
    "responses_df['output'] = np.where(responses_df['decision'] == 'More chance of heart attack', 1, 0)\n",
    "responses_df.shape"
   ]
  },
  {
   "cell_type": "markdown",
   "metadata": {},
   "source": [
    "## GPT3.5 zero shot prediction result"
   ]
  },
  {
   "cell_type": "code",
   "execution_count": 32,
   "metadata": {},
   "outputs": [
    {
     "data": {
      "text/plain": [
       "0.48160173160173153"
      ]
     },
     "execution_count": 32,
     "metadata": {},
     "output_type": "execute_result"
    }
   ],
   "source": [
    "auc_gpt = roc_auc_score(y_val, responses_df['output'])\n",
    "auc_gpt"
   ]
  },
  {
   "attachments": {},
   "cell_type": "markdown",
   "metadata": {},
   "source": [
    "# Model with OpenAI's embedding"
   ]
  },
  {
   "attachments": {},
   "cell_type": "markdown",
   "metadata": {},
   "source": [
    "## Prompt engineering"
   ]
  },
  {
   "cell_type": "code",
   "execution_count": null,
   "metadata": {},
   "outputs": [],
   "source": [
    "df_gpt['combined'] = df_gpt.apply(compile_prompt, axis=1)"
   ]
  },
  {
   "cell_type": "markdown",
   "metadata": {},
   "source": [
    "## OpenAI embedding"
   ]
  },
  {
   "cell_type": "code",
   "execution_count": 55,
   "metadata": {},
   "outputs": [
    {
     "data": {
      "text/plain": [
       "(303, 1550)"
      ]
     },
     "execution_count": 55,
     "metadata": {},
     "output_type": "execute_result"
    }
   ],
   "source": [
    "\n",
    "df_gpt['ada_embedding'] = df_gpt.combined.apply(lambda x: get_embedding(x, model='text-embedding-ada-002'))\n",
    "df_gpt = df_gpt.join(pd.DataFrame(df_gpt['ada_embedding'].apply(pd.Series)))\n",
    "df_gpt.drop(['combined', 'ada_embedding'], axis = 1, inplace = True)\n",
    "# df_gpt.to_csv('./Heart_Attack_df_gpt_with_embedding_before_onehot.csv', index = False)\n",
    "# df_gpt.columns = df_gpt.columns.tolist()[:14] + ['Embedding_' + str(i) for i in df_gpt.columns.tolist()[14:]]\n",
    "# df_gpt.shape\n"
   ]
  },
  {
   "cell_type": "code",
   "execution_count": 35,
   "metadata": {},
   "outputs": [
    {
     "data": {
      "text/plain": [
       "(303, 1550)"
      ]
     },
     "execution_count": 35,
     "metadata": {},
     "output_type": "execute_result"
    }
   ],
   "source": [
    "# load OpenAI API response\n",
    "df_gpt = pd.read_csv('.//data/processed data/Heart_Attack_df_gpt_with_embedding_before_onehot.csv')\n",
    "df_gpt.columns = df_gpt.columns.tolist()[:14] + ['Embedding_' + str(i) for i in df_gpt.columns.tolist()[14:]]\n",
    "df_gpt.shape"
   ]
  },
  {
   "cell_type": "code",
   "execution_count": 36,
   "metadata": {},
   "outputs": [
    {
     "data": {
      "text/plain": [
       "(303, 1550)"
      ]
     },
     "execution_count": 36,
     "metadata": {},
     "output_type": "execute_result"
    }
   ],
   "source": [
    "df = pd.concat([df, df_gpt[[i for i in df_gpt.columns.tolist() if i.startswith('Embedding_')]]], axis=1)\n",
    "df.shape"
   ]
  },
  {
   "cell_type": "markdown",
   "metadata": {},
   "source": [
    "## Train model"
   ]
  },
  {
   "cell_type": "code",
   "execution_count": 38,
   "metadata": {},
   "outputs": [],
   "source": [
    "# Seperate dependent and independent variables\n",
    "X = df.drop(axis=1,columns=['output'])\n",
    "y = df['output'].tolist()\n",
    "\n",
    "X_tr, X_val, y_tr, y_val = train_test_split(X, y, test_size=0.2, random_state=101,\n",
    "                                                stratify=y,shuffle=True)"
   ]
  },
  {
   "cell_type": "code",
   "execution_count": 62,
   "metadata": {},
   "outputs": [],
   "source": [
    "models = ml_models()\n",
    "lr = models['LR']\n",
    "lasso = models['LASSO'] \n",
    "ridge = models['RIDGE'] \n",
    "rf = models['RF'] "
   ]
  },
  {
   "cell_type": "code",
   "execution_count": 43,
   "metadata": {},
   "outputs": [
    {
     "name": "stdout",
     "output_type": "stream",
     "text": [
      "LR\n",
      "LR_With_GPT_Embedding:  0.7099567099567099\n",
      "LASSO\n",
      "LASSO_With_GPT_Embedding:  0.7099567099567099\n",
      "RIDGE\n",
      "RIDGE_With_GPT_Embedding:  0.7099567099567099\n",
      "RF\n",
      "RF_With_GPT_Embedding:  0.8841991341991343\n"
     ]
    }
   ],
   "source": [
    "pred_dict_gpt = {}\n",
    "for k, m in models.items():\n",
    "    print(k)\n",
    "    m.fit(X_tr, y_tr)\n",
    "    preds = m.predict_proba(X_val)[:,1]\n",
    "    auc = roc_auc_score(y_val, preds)\n",
    "    pred_dict_gpt[k + '_With_GPT_Embedding'] = preds\n",
    "    print(k + '_With_GPT_Embedding' + ': ', auc)"
   ]
  },
  {
   "cell_type": "markdown",
   "metadata": {},
   "source": [
    "## Model performance"
   ]
  },
  {
   "cell_type": "code",
   "execution_count": 44,
   "metadata": {},
   "outputs": [
    {
     "data": {
      "application/vnd.plotly.v1+json": {
       "config": {
        "plotlyServerURL": "https://plot.ly"
       },
       "data": [
        {
         "hovertemplate": "FPR: %{x:.2%} TPR: %{y:.2%}",
         "name": "LR, AUC = 0.7089",
         "showlegend": true,
         "type": "scatter",
         "x": [
          0,
          0,
          0,
          0.07142857142857142,
          0.07142857142857142,
          0.10714285714285714,
          0.10714285714285714,
          0.21428571428571427,
          0.21428571428571427,
          0.2857142857142857,
          0.2857142857142857,
          0.35714285714285715,
          0.35714285714285715,
          0.39285714285714285,
          0.39285714285714285,
          0.42857142857142855,
          0.42857142857142855,
          0.6071428571428571,
          0.6071428571428571,
          0.6785714285714286,
          0.6785714285714286,
          0.8928571428571429,
          0.8928571428571429,
          0.9285714285714286,
          0.9285714285714286,
          1
         ],
         "y": [
          0,
          0.030303030303030304,
          0.24242424242424243,
          0.24242424242424243,
          0.36363636363636365,
          0.36363636363636365,
          0.45454545454545453,
          0.45454545454545453,
          0.5151515151515151,
          0.5151515151515151,
          0.5757575757575758,
          0.5757575757575758,
          0.6363636363636364,
          0.6363636363636364,
          0.7575757575757576,
          0.7575757575757576,
          0.7878787878787878,
          0.7878787878787878,
          0.8484848484848485,
          0.8484848484848485,
          0.9090909090909091,
          0.9090909090909091,
          0.9696969696969697,
          0.9696969696969697,
          1,
          1
         ]
        },
        {
         "hovertemplate": "FPR: %{x:.2%} TPR: %{y:.2%}",
         "name": "LASSO, AUC = 0.7089",
         "showlegend": true,
         "type": "scatter",
         "x": [
          0,
          0,
          0,
          0.07142857142857142,
          0.07142857142857142,
          0.10714285714285714,
          0.10714285714285714,
          0.21428571428571427,
          0.21428571428571427,
          0.2857142857142857,
          0.2857142857142857,
          0.35714285714285715,
          0.35714285714285715,
          0.39285714285714285,
          0.39285714285714285,
          0.42857142857142855,
          0.42857142857142855,
          0.6071428571428571,
          0.6071428571428571,
          0.6785714285714286,
          0.6785714285714286,
          0.8928571428571429,
          0.8928571428571429,
          0.9285714285714286,
          0.9285714285714286,
          1
         ],
         "y": [
          0,
          0.030303030303030304,
          0.24242424242424243,
          0.24242424242424243,
          0.36363636363636365,
          0.36363636363636365,
          0.45454545454545453,
          0.45454545454545453,
          0.5151515151515151,
          0.5151515151515151,
          0.5757575757575758,
          0.5757575757575758,
          0.6363636363636364,
          0.6363636363636364,
          0.7575757575757576,
          0.7575757575757576,
          0.7878787878787878,
          0.7878787878787878,
          0.8484848484848485,
          0.8484848484848485,
          0.9090909090909091,
          0.9090909090909091,
          0.9696969696969697,
          0.9696969696969697,
          1,
          1
         ]
        },
        {
         "hovertemplate": "FPR: %{x:.2%} TPR: %{y:.2%}",
         "name": "RIDGE, AUC = 0.7089",
         "showlegend": true,
         "type": "scatter",
         "x": [
          0,
          0,
          0,
          0.07142857142857142,
          0.07142857142857142,
          0.10714285714285714,
          0.10714285714285714,
          0.21428571428571427,
          0.21428571428571427,
          0.2857142857142857,
          0.2857142857142857,
          0.35714285714285715,
          0.35714285714285715,
          0.39285714285714285,
          0.39285714285714285,
          0.42857142857142855,
          0.42857142857142855,
          0.6071428571428571,
          0.6071428571428571,
          0.6785714285714286,
          0.6785714285714286,
          0.8928571428571429,
          0.8928571428571429,
          0.9285714285714286,
          0.9285714285714286,
          1
         ],
         "y": [
          0,
          0.030303030303030304,
          0.24242424242424243,
          0.24242424242424243,
          0.36363636363636365,
          0.36363636363636365,
          0.45454545454545453,
          0.45454545454545453,
          0.5151515151515151,
          0.5151515151515151,
          0.5757575757575758,
          0.5757575757575758,
          0.6363636363636364,
          0.6363636363636364,
          0.7575757575757576,
          0.7575757575757576,
          0.7878787878787878,
          0.7878787878787878,
          0.8484848484848485,
          0.8484848484848485,
          0.9090909090909091,
          0.9090909090909091,
          0.9696969696969697,
          0.9696969696969697,
          1,
          1
         ]
        },
        {
         "hovertemplate": "FPR: %{x:.2%} TPR: %{y:.2%}",
         "name": "RF, AUC = 0.8745",
         "showlegend": true,
         "type": "scatter",
         "x": [
          0,
          0,
          0,
          0.03571428571428571,
          0.03571428571428571,
          0.07142857142857142,
          0.07142857142857142,
          0.14285714285714285,
          0.14285714285714285,
          0.17857142857142858,
          0.17857142857142858,
          0.6071428571428571,
          0.6071428571428571,
          0.6428571428571429,
          0.6428571428571429,
          0.9642857142857143,
          0.9642857142857143,
          1
         ],
         "y": [
          0,
          0.030303030303030304,
          0.12121212121212122,
          0.12121212121212122,
          0.45454545454545453,
          0.45454545454545453,
          0.7575757575757576,
          0.7575757575757576,
          0.8181818181818182,
          0.8181818181818182,
          0.9090909090909091,
          0.9090909090909091,
          0.9393939393939394,
          0.9393939393939394,
          0.9696969696969697,
          0.9696969696969697,
          1,
          1
         ]
        },
        {
         "hovertemplate": "FPR: %{x:.2%} TPR: %{y:.2%}",
         "name": "LR_With_GPT_Embedding, AUC = 0.71",
         "showlegend": true,
         "type": "scatter",
         "x": [
          0,
          0,
          0,
          0.07142857142857142,
          0.07142857142857142,
          0.10714285714285714,
          0.10714285714285714,
          0.21428571428571427,
          0.21428571428571427,
          0.2857142857142857,
          0.2857142857142857,
          0.35714285714285715,
          0.35714285714285715,
          0.39285714285714285,
          0.39285714285714285,
          0.42857142857142855,
          0.42857142857142855,
          0.6071428571428571,
          0.6071428571428571,
          0.6428571428571429,
          0.6428571428571429,
          0.6785714285714286,
          0.6785714285714286,
          0.8928571428571429,
          0.8928571428571429,
          0.9285714285714286,
          0.9285714285714286,
          1
         ],
         "y": [
          0,
          0.030303030303030304,
          0.24242424242424243,
          0.24242424242424243,
          0.42424242424242425,
          0.42424242424242425,
          0.45454545454545453,
          0.45454545454545453,
          0.5151515151515151,
          0.5151515151515151,
          0.5757575757575758,
          0.5757575757575758,
          0.6363636363636364,
          0.6363636363636364,
          0.7575757575757576,
          0.7575757575757576,
          0.7878787878787878,
          0.7878787878787878,
          0.8181818181818182,
          0.8181818181818182,
          0.8484848484848485,
          0.8484848484848485,
          0.9090909090909091,
          0.9090909090909091,
          0.9696969696969697,
          0.9696969696969697,
          1,
          1
         ]
        },
        {
         "hovertemplate": "FPR: %{x:.2%} TPR: %{y:.2%}",
         "name": "LASSO_With_GPT_Embedding, AUC = 0.71",
         "showlegend": true,
         "type": "scatter",
         "x": [
          0,
          0,
          0,
          0.07142857142857142,
          0.07142857142857142,
          0.10714285714285714,
          0.10714285714285714,
          0.21428571428571427,
          0.21428571428571427,
          0.2857142857142857,
          0.2857142857142857,
          0.35714285714285715,
          0.35714285714285715,
          0.39285714285714285,
          0.39285714285714285,
          0.42857142857142855,
          0.42857142857142855,
          0.6071428571428571,
          0.6071428571428571,
          0.6428571428571429,
          0.6428571428571429,
          0.6785714285714286,
          0.6785714285714286,
          0.8928571428571429,
          0.8928571428571429,
          0.9285714285714286,
          0.9285714285714286,
          1
         ],
         "y": [
          0,
          0.030303030303030304,
          0.24242424242424243,
          0.24242424242424243,
          0.42424242424242425,
          0.42424242424242425,
          0.45454545454545453,
          0.45454545454545453,
          0.5151515151515151,
          0.5151515151515151,
          0.5757575757575758,
          0.5757575757575758,
          0.6363636363636364,
          0.6363636363636364,
          0.7575757575757576,
          0.7575757575757576,
          0.7878787878787878,
          0.7878787878787878,
          0.8181818181818182,
          0.8181818181818182,
          0.8484848484848485,
          0.8484848484848485,
          0.9090909090909091,
          0.9090909090909091,
          0.9696969696969697,
          0.9696969696969697,
          1,
          1
         ]
        },
        {
         "hovertemplate": "FPR: %{x:.2%} TPR: %{y:.2%}",
         "name": "RIDGE_With_GPT_Embedding, AUC = 0.71",
         "showlegend": true,
         "type": "scatter",
         "x": [
          0,
          0,
          0,
          0.07142857142857142,
          0.07142857142857142,
          0.10714285714285714,
          0.10714285714285714,
          0.21428571428571427,
          0.21428571428571427,
          0.2857142857142857,
          0.2857142857142857,
          0.35714285714285715,
          0.35714285714285715,
          0.39285714285714285,
          0.39285714285714285,
          0.42857142857142855,
          0.42857142857142855,
          0.6071428571428571,
          0.6071428571428571,
          0.6428571428571429,
          0.6428571428571429,
          0.6785714285714286,
          0.6785714285714286,
          0.8928571428571429,
          0.8928571428571429,
          0.9285714285714286,
          0.9285714285714286,
          1
         ],
         "y": [
          0,
          0.030303030303030304,
          0.24242424242424243,
          0.24242424242424243,
          0.42424242424242425,
          0.42424242424242425,
          0.45454545454545453,
          0.45454545454545453,
          0.5151515151515151,
          0.5151515151515151,
          0.5757575757575758,
          0.5757575757575758,
          0.6363636363636364,
          0.6363636363636364,
          0.7575757575757576,
          0.7575757575757576,
          0.7878787878787878,
          0.7878787878787878,
          0.8181818181818182,
          0.8181818181818182,
          0.8484848484848485,
          0.8484848484848485,
          0.9090909090909091,
          0.9090909090909091,
          0.9696969696969697,
          0.9696969696969697,
          1,
          1
         ]
        },
        {
         "hovertemplate": "FPR: %{x:.2%} TPR: %{y:.2%}",
         "name": "RF_With_GPT_Embedding, AUC = 0.8842",
         "showlegend": true,
         "type": "scatter",
         "x": [
          0,
          0,
          0,
          0.03571428571428571,
          0.03571428571428571,
          0.14285714285714285,
          0.14285714285714285,
          0.17857142857142858,
          0.17857142857142858,
          0.2857142857142857,
          0.2857142857142857,
          0.35714285714285715,
          0.35714285714285715,
          0.42857142857142855,
          0.42857142857142855,
          0.7857142857142857,
          0.7857142857142857,
          1
         ],
         "y": [
          0,
          0.030303030303030304,
          0.30303030303030304,
          0.30303030303030304,
          0.6666666666666666,
          0.6666666666666666,
          0.7878787878787878,
          0.7878787878787878,
          0.8181818181818182,
          0.8181818181818182,
          0.8484848484848485,
          0.8484848484848485,
          0.9090909090909091,
          0.9090909090909091,
          0.9696969696969697,
          0.9696969696969697,
          1,
          1
         ]
        }
       ],
       "layout": {
        "font": {
         "family": "Courier New"
        },
        "height": 600,
        "template": {
         "data": {
          "bar": [
           {
            "error_x": {
             "color": "#2a3f5f"
            },
            "error_y": {
             "color": "#2a3f5f"
            },
            "marker": {
             "line": {
              "color": "white",
              "width": 0.5
             },
             "pattern": {
              "fillmode": "overlay",
              "size": 10,
              "solidity": 0.2
             }
            },
            "type": "bar"
           }
          ],
          "barpolar": [
           {
            "marker": {
             "line": {
              "color": "white",
              "width": 0.5
             },
             "pattern": {
              "fillmode": "overlay",
              "size": 10,
              "solidity": 0.2
             }
            },
            "type": "barpolar"
           }
          ],
          "carpet": [
           {
            "aaxis": {
             "endlinecolor": "#2a3f5f",
             "gridcolor": "#C8D4E3",
             "linecolor": "#C8D4E3",
             "minorgridcolor": "#C8D4E3",
             "startlinecolor": "#2a3f5f"
            },
            "baxis": {
             "endlinecolor": "#2a3f5f",
             "gridcolor": "#C8D4E3",
             "linecolor": "#C8D4E3",
             "minorgridcolor": "#C8D4E3",
             "startlinecolor": "#2a3f5f"
            },
            "type": "carpet"
           }
          ],
          "choropleth": [
           {
            "colorbar": {
             "outlinewidth": 0,
             "ticks": ""
            },
            "type": "choropleth"
           }
          ],
          "contour": [
           {
            "colorbar": {
             "outlinewidth": 0,
             "ticks": ""
            },
            "colorscale": [
             [
              0,
              "#0d0887"
             ],
             [
              0.1111111111111111,
              "#46039f"
             ],
             [
              0.2222222222222222,
              "#7201a8"
             ],
             [
              0.3333333333333333,
              "#9c179e"
             ],
             [
              0.4444444444444444,
              "#bd3786"
             ],
             [
              0.5555555555555556,
              "#d8576b"
             ],
             [
              0.6666666666666666,
              "#ed7953"
             ],
             [
              0.7777777777777778,
              "#fb9f3a"
             ],
             [
              0.8888888888888888,
              "#fdca26"
             ],
             [
              1,
              "#f0f921"
             ]
            ],
            "type": "contour"
           }
          ],
          "contourcarpet": [
           {
            "colorbar": {
             "outlinewidth": 0,
             "ticks": ""
            },
            "type": "contourcarpet"
           }
          ],
          "heatmap": [
           {
            "colorbar": {
             "outlinewidth": 0,
             "ticks": ""
            },
            "colorscale": [
             [
              0,
              "#0d0887"
             ],
             [
              0.1111111111111111,
              "#46039f"
             ],
             [
              0.2222222222222222,
              "#7201a8"
             ],
             [
              0.3333333333333333,
              "#9c179e"
             ],
             [
              0.4444444444444444,
              "#bd3786"
             ],
             [
              0.5555555555555556,
              "#d8576b"
             ],
             [
              0.6666666666666666,
              "#ed7953"
             ],
             [
              0.7777777777777778,
              "#fb9f3a"
             ],
             [
              0.8888888888888888,
              "#fdca26"
             ],
             [
              1,
              "#f0f921"
             ]
            ],
            "type": "heatmap"
           }
          ],
          "heatmapgl": [
           {
            "colorbar": {
             "outlinewidth": 0,
             "ticks": ""
            },
            "colorscale": [
             [
              0,
              "#0d0887"
             ],
             [
              0.1111111111111111,
              "#46039f"
             ],
             [
              0.2222222222222222,
              "#7201a8"
             ],
             [
              0.3333333333333333,
              "#9c179e"
             ],
             [
              0.4444444444444444,
              "#bd3786"
             ],
             [
              0.5555555555555556,
              "#d8576b"
             ],
             [
              0.6666666666666666,
              "#ed7953"
             ],
             [
              0.7777777777777778,
              "#fb9f3a"
             ],
             [
              0.8888888888888888,
              "#fdca26"
             ],
             [
              1,
              "#f0f921"
             ]
            ],
            "type": "heatmapgl"
           }
          ],
          "histogram": [
           {
            "marker": {
             "pattern": {
              "fillmode": "overlay",
              "size": 10,
              "solidity": 0.2
             }
            },
            "type": "histogram"
           }
          ],
          "histogram2d": [
           {
            "colorbar": {
             "outlinewidth": 0,
             "ticks": ""
            },
            "colorscale": [
             [
              0,
              "#0d0887"
             ],
             [
              0.1111111111111111,
              "#46039f"
             ],
             [
              0.2222222222222222,
              "#7201a8"
             ],
             [
              0.3333333333333333,
              "#9c179e"
             ],
             [
              0.4444444444444444,
              "#bd3786"
             ],
             [
              0.5555555555555556,
              "#d8576b"
             ],
             [
              0.6666666666666666,
              "#ed7953"
             ],
             [
              0.7777777777777778,
              "#fb9f3a"
             ],
             [
              0.8888888888888888,
              "#fdca26"
             ],
             [
              1,
              "#f0f921"
             ]
            ],
            "type": "histogram2d"
           }
          ],
          "histogram2dcontour": [
           {
            "colorbar": {
             "outlinewidth": 0,
             "ticks": ""
            },
            "colorscale": [
             [
              0,
              "#0d0887"
             ],
             [
              0.1111111111111111,
              "#46039f"
             ],
             [
              0.2222222222222222,
              "#7201a8"
             ],
             [
              0.3333333333333333,
              "#9c179e"
             ],
             [
              0.4444444444444444,
              "#bd3786"
             ],
             [
              0.5555555555555556,
              "#d8576b"
             ],
             [
              0.6666666666666666,
              "#ed7953"
             ],
             [
              0.7777777777777778,
              "#fb9f3a"
             ],
             [
              0.8888888888888888,
              "#fdca26"
             ],
             [
              1,
              "#f0f921"
             ]
            ],
            "type": "histogram2dcontour"
           }
          ],
          "mesh3d": [
           {
            "colorbar": {
             "outlinewidth": 0,
             "ticks": ""
            },
            "type": "mesh3d"
           }
          ],
          "parcoords": [
           {
            "line": {
             "colorbar": {
              "outlinewidth": 0,
              "ticks": ""
             }
            },
            "type": "parcoords"
           }
          ],
          "pie": [
           {
            "automargin": true,
            "type": "pie"
           }
          ],
          "scatter": [
           {
            "fillpattern": {
             "fillmode": "overlay",
             "size": 10,
             "solidity": 0.2
            },
            "type": "scatter"
           }
          ],
          "scatter3d": [
           {
            "line": {
             "colorbar": {
              "outlinewidth": 0,
              "ticks": ""
             }
            },
            "marker": {
             "colorbar": {
              "outlinewidth": 0,
              "ticks": ""
             }
            },
            "type": "scatter3d"
           }
          ],
          "scattercarpet": [
           {
            "marker": {
             "colorbar": {
              "outlinewidth": 0,
              "ticks": ""
             }
            },
            "type": "scattercarpet"
           }
          ],
          "scattergeo": [
           {
            "marker": {
             "colorbar": {
              "outlinewidth": 0,
              "ticks": ""
             }
            },
            "type": "scattergeo"
           }
          ],
          "scattergl": [
           {
            "marker": {
             "colorbar": {
              "outlinewidth": 0,
              "ticks": ""
             }
            },
            "type": "scattergl"
           }
          ],
          "scattermapbox": [
           {
            "marker": {
             "colorbar": {
              "outlinewidth": 0,
              "ticks": ""
             }
            },
            "type": "scattermapbox"
           }
          ],
          "scatterpolar": [
           {
            "marker": {
             "colorbar": {
              "outlinewidth": 0,
              "ticks": ""
             }
            },
            "type": "scatterpolar"
           }
          ],
          "scatterpolargl": [
           {
            "marker": {
             "colorbar": {
              "outlinewidth": 0,
              "ticks": ""
             }
            },
            "type": "scatterpolargl"
           }
          ],
          "scatterternary": [
           {
            "marker": {
             "colorbar": {
              "outlinewidth": 0,
              "ticks": ""
             }
            },
            "type": "scatterternary"
           }
          ],
          "surface": [
           {
            "colorbar": {
             "outlinewidth": 0,
             "ticks": ""
            },
            "colorscale": [
             [
              0,
              "#0d0887"
             ],
             [
              0.1111111111111111,
              "#46039f"
             ],
             [
              0.2222222222222222,
              "#7201a8"
             ],
             [
              0.3333333333333333,
              "#9c179e"
             ],
             [
              0.4444444444444444,
              "#bd3786"
             ],
             [
              0.5555555555555556,
              "#d8576b"
             ],
             [
              0.6666666666666666,
              "#ed7953"
             ],
             [
              0.7777777777777778,
              "#fb9f3a"
             ],
             [
              0.8888888888888888,
              "#fdca26"
             ],
             [
              1,
              "#f0f921"
             ]
            ],
            "type": "surface"
           }
          ],
          "table": [
           {
            "cells": {
             "fill": {
              "color": "#EBF0F8"
             },
             "line": {
              "color": "white"
             }
            },
            "header": {
             "fill": {
              "color": "#C8D4E3"
             },
             "line": {
              "color": "white"
             }
            },
            "type": "table"
           }
          ]
         },
         "layout": {
          "annotationdefaults": {
           "arrowcolor": "#2a3f5f",
           "arrowhead": 0,
           "arrowwidth": 1
          },
          "autotypenumbers": "strict",
          "coloraxis": {
           "colorbar": {
            "outlinewidth": 0,
            "ticks": ""
           }
          },
          "colorscale": {
           "diverging": [
            [
             0,
             "#8e0152"
            ],
            [
             0.1,
             "#c51b7d"
            ],
            [
             0.2,
             "#de77ae"
            ],
            [
             0.3,
             "#f1b6da"
            ],
            [
             0.4,
             "#fde0ef"
            ],
            [
             0.5,
             "#f7f7f7"
            ],
            [
             0.6,
             "#e6f5d0"
            ],
            [
             0.7,
             "#b8e186"
            ],
            [
             0.8,
             "#7fbc41"
            ],
            [
             0.9,
             "#4d9221"
            ],
            [
             1,
             "#276419"
            ]
           ],
           "sequential": [
            [
             0,
             "#0d0887"
            ],
            [
             0.1111111111111111,
             "#46039f"
            ],
            [
             0.2222222222222222,
             "#7201a8"
            ],
            [
             0.3333333333333333,
             "#9c179e"
            ],
            [
             0.4444444444444444,
             "#bd3786"
            ],
            [
             0.5555555555555556,
             "#d8576b"
            ],
            [
             0.6666666666666666,
             "#ed7953"
            ],
            [
             0.7777777777777778,
             "#fb9f3a"
            ],
            [
             0.8888888888888888,
             "#fdca26"
            ],
            [
             1,
             "#f0f921"
            ]
           ],
           "sequentialminus": [
            [
             0,
             "#0d0887"
            ],
            [
             0.1111111111111111,
             "#46039f"
            ],
            [
             0.2222222222222222,
             "#7201a8"
            ],
            [
             0.3333333333333333,
             "#9c179e"
            ],
            [
             0.4444444444444444,
             "#bd3786"
            ],
            [
             0.5555555555555556,
             "#d8576b"
            ],
            [
             0.6666666666666666,
             "#ed7953"
            ],
            [
             0.7777777777777778,
             "#fb9f3a"
            ],
            [
             0.8888888888888888,
             "#fdca26"
            ],
            [
             1,
             "#f0f921"
            ]
           ]
          },
          "colorway": [
           "#636efa",
           "#EF553B",
           "#00cc96",
           "#ab63fa",
           "#FFA15A",
           "#19d3f3",
           "#FF6692",
           "#B6E880",
           "#FF97FF",
           "#FECB52"
          ],
          "font": {
           "color": "#2a3f5f"
          },
          "geo": {
           "bgcolor": "white",
           "lakecolor": "white",
           "landcolor": "white",
           "showlakes": true,
           "showland": true,
           "subunitcolor": "#C8D4E3"
          },
          "hoverlabel": {
           "align": "left"
          },
          "hovermode": "closest",
          "mapbox": {
           "style": "light"
          },
          "paper_bgcolor": "white",
          "plot_bgcolor": "white",
          "polar": {
           "angularaxis": {
            "gridcolor": "#EBF0F8",
            "linecolor": "#EBF0F8",
            "ticks": ""
           },
           "bgcolor": "white",
           "radialaxis": {
            "gridcolor": "#EBF0F8",
            "linecolor": "#EBF0F8",
            "ticks": ""
           }
          },
          "scene": {
           "xaxis": {
            "backgroundcolor": "white",
            "gridcolor": "#DFE8F3",
            "gridwidth": 2,
            "linecolor": "#EBF0F8",
            "showbackground": true,
            "ticks": "",
            "zerolinecolor": "#EBF0F8"
           },
           "yaxis": {
            "backgroundcolor": "white",
            "gridcolor": "#DFE8F3",
            "gridwidth": 2,
            "linecolor": "#EBF0F8",
            "showbackground": true,
            "ticks": "",
            "zerolinecolor": "#EBF0F8"
           },
           "zaxis": {
            "backgroundcolor": "white",
            "gridcolor": "#DFE8F3",
            "gridwidth": 2,
            "linecolor": "#EBF0F8",
            "showbackground": true,
            "ticks": "",
            "zerolinecolor": "#EBF0F8"
           }
          },
          "shapedefaults": {
           "line": {
            "color": "#2a3f5f"
           }
          },
          "ternary": {
           "aaxis": {
            "gridcolor": "#DFE8F3",
            "linecolor": "#A2B1C6",
            "ticks": ""
           },
           "baxis": {
            "gridcolor": "#DFE8F3",
            "linecolor": "#A2B1C6",
            "ticks": ""
           },
           "bgcolor": "white",
           "caxis": {
            "gridcolor": "#DFE8F3",
            "linecolor": "#A2B1C6",
            "ticks": ""
           }
          },
          "title": {
           "x": 0.05
          },
          "xaxis": {
           "automargin": true,
           "gridcolor": "#EBF0F8",
           "linecolor": "#EBF0F8",
           "ticks": "",
           "title": {
            "standoff": 15
           },
           "zerolinecolor": "#EBF0F8",
           "zerolinewidth": 2
          },
          "yaxis": {
           "automargin": true,
           "gridcolor": "#EBF0F8",
           "linecolor": "#EBF0F8",
           "ticks": "",
           "title": {
            "standoff": 15
           },
           "zerolinecolor": "#EBF0F8",
           "zerolinewidth": 2
          }
         }
        },
        "title": {
         "font": {
          "family": "Times New Roman"
         },
         "text": "MODEL AUC"
        },
        "width": 960
       }
      }
     },
     "metadata": {},
     "output_type": "display_data"
    }
   ],
   "source": [
    "pred_dict_combine = dict(list(pred_dict.items()) + list(pred_dict_gpt.items()))\n",
    "create_auc_chart(pred_dict_combine, y_val, 'Model AUC')"
   ]
  },
  {
   "attachments": {},
   "cell_type": "markdown",
   "metadata": {},
   "source": [
    "# Explainability"
   ]
  },
  {
   "cell_type": "code",
   "execution_count": 18,
   "metadata": {},
   "outputs": [
    {
     "data": {
      "text/plain": [
       "{'age': 51,\n",
       " 'sex': 'Male',\n",
       " 'cp': 'Atypical angina',\n",
       " 'trtbps': 125,\n",
       " 'chol': 245,\n",
       " 'fbs': 'Fasting blood sugar > 120 mg/dl',\n",
       " 'restecg': 'Normal',\n",
       " 'thalachh': 166,\n",
       " 'exng': 'Without exercise induced angina',\n",
       " 'oldpeak': 2.4,\n",
       " 'slp': 'The slope of the peak exercise ST segment is flat',\n",
       " 'caa': 0,\n",
       " 'thall': 'Thall is normal'}"
      ]
     },
     "execution_count": 18,
     "metadata": {},
     "output_type": "execute_result"
    }
   ],
   "source": [
    "application_data = application_list[0]\n",
    "application_data"
   ]
  },
  {
   "cell_type": "code",
   "execution_count": 25,
   "metadata": {},
   "outputs": [
    {
     "name": "stdout",
     "output_type": "stream",
     "text": [
      "You are a medical expert / underwriter in a global insurance company. Your job is to evaluate the chance of having heart attack.\n",
      "        Please encode your response as json in the following format\n",
      "        {\n",
      "            \"decision\": \"<Either less chance of heart attack or more chance of heart attack>\",\n",
      "            \"reasoning\": \"<Provide a 300 words explaination of why you made this decision>\"\n",
      "        }\n",
      "        ---- BEGIN OF THE DATA ----\n",
      "        What is the age of the applicant?: 51\n",
      "        What is the sex of the applicant?: Male\n",
      "        What is the chest pain type of the applicant?: Atypical angina\n",
      "        What is the resting blood pressure (in mm Hg) of the applicant?: 125\n",
      "        What is the cholestoral in mg/dl fetched via BMI sensor of the applicant?: 245\n",
      "        What is the fasting blood sugar level of the applicant?: Fasting blood sugar > 120 mg/dl\n",
      "        What is the resting electrocardiographic results of the applicant?: Normal\n",
      "        What is the maximum heart rate achieved of the applicant?: 166\n",
      "        What is the exercise induced angina of the applicant?: Without exercise induced angina\n",
      "        What is the ST depression induced by exercise relative to rest of the applicant?: 2.4\n",
      "        What is the slope of the peak exercise ST segment of the applicant?: The slope of the peak exercise ST segment is flat\n",
      "        What is the number of major vessels of the applicant?: 0\n",
      "        What is the thall of the applicant?: Thall is normal\n",
      "        ---- END OF THE DATA ----\n",
      "\n"
     ]
    },
    {
     "data": {
      "text/plain": [
       "'{\\n  \"decision\": \"less chance of heart attack\",\\n  \"reasoning\": \"Based on the information provided, the applicant has several factors that indicate a lower chance of having a heart attack. \\n\\nFirstly, the age of the applicant is 51, which is not considered young but also not in the high-risk range for heart attacks. \\n\\nSecondly, the applicant is male. While men generally have a higher risk than women for heart attacks, it is not the sole determining factor. \\n\\nThirdly, the chest pain type reported by the applicant is atypical angina. Atypical angina is characterized by chest pain that is less predictable and may have different patterns compared to typical angina. This can indicate a lower risk of heart attack compared to typical angina.\\n\\nFourthly, the resting blood pressure of the applicant is 125 mm Hg. This falls within the normal range and does not indicate hypertension, which is a risk factor for heart attacks.\\n\\nFifthly, the cholesterol level of the applicant is 245 mg/dl. While this is higher than the recommended level, it is not extremely high, and the applicant\\'s BMI is not provided, so we cannot determine if the cholesterol level is high due to obesity.\\n\\nSixthly, the applicant does not have fasting blood sugar level above 120 mg/dl, which indicates a lower risk of diabetes, another risk factor for heart attacks.\\n\\nSeventhly, the resting electrocardiographic results of the applicant are normal, which indicates normal heart function and reduces the risk of heart attack.\\n\\nEighthly, the maximum heart rate achieved by the applicant is 166, which is a good sign as it indicates a healthier cardiovascular system.\\n\\nNinthly, the applicant does not experience exercise-induced angina, which is another positive factor.\\n\\nTenthly, the ST depression induced by exercise relative to rest is 2.4, which is within the normal range and does not indicate significant ischemia.\\n\\nEleventhly, the slope of the peak exercise ST segment is flat, which could be a normal finding or related to the atypical angina reported by the applicant.\\n\\nLastly, the applicant has no major vessels and a normal Thall, indicating a lower risk of coronary artery disease.\\n\\nConsidering all these factors, it is likely that the applicant has a lower chance of having a heart attack. However, it is important to note that this evaluation is based solely on the provided information and further medical assessment may be necessary to make a definitive determination.\" \\n}'"
      ]
     },
     "execution_count": 25,
     "metadata": {},
     "output_type": "execute_result"
    }
   ],
   "source": [
    "response = gpt_reasoning(application_data)\n",
    "response"
   ]
  }
 ],
 "metadata": {
  "kernelspec": {
   "display_name": "base",
   "language": "python",
   "name": "python3"
  },
  "language_info": {
   "codemirror_mode": {
    "name": "ipython",
    "version": 3
   },
   "file_extension": ".py",
   "mimetype": "text/x-python",
   "name": "python",
   "nbconvert_exporter": "python",
   "pygments_lexer": "ipython3",
   "version": "3.8.8"
  },
  "orig_nbformat": 4
 },
 "nbformat": 4,
 "nbformat_minor": 2
}
